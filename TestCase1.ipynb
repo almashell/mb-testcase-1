{
 "cells": [
  {
   "cell_type": "markdown",
   "metadata": {},
   "source": [
    "# Задание №1\n",
    "\n",
    "Есть Pandas DataFrame со столбцами `[“customer_id”, “product_id”, “timestamp”]`, который содержит данные по просмотрам товаров на сайте. Есть проблема – просмотры одного `customer_id` не разбиты на сессии (появления на сайте). Мы хотим разместить сессии так, чтобы сессией считались все смежные просмотры, между которыми не более 3 минут.\n",
    "\n",
    "Написать методом который создаст в `Pandas DataFrame` столбец `session_id` и проставит в нем уникальный `int id` для каждой сессии.\n",
    "\n",
    "У каждого пользователя может быть по несколько сессий. Исходный `DataFrame` может быть большим – до 100 млн строк."
   ]
  },
  {
   "cell_type": "markdown",
   "metadata": {},
   "source": [
    "# Решение"
   ]
  },
  {
   "cell_type": "markdown",
   "metadata": {},
   "source": [
    "основные импорты"
   ]
  },
  {
   "cell_type": "code",
   "execution_count": null,
   "metadata": {},
   "outputs": [],
   "source": [
    "import pandas as pd\n",
    "import numpy as np\n",
    "import datetime\n",
    "import random\n",
    "from tqdm import tqdm\n",
    "import threading\n",
    "import multiprocessing\n",
    "from itertools import chain\n",
    "import glob\n",
    "import os\n",
    "from joblib import Parallel, delayed"
   ]
  },
  {
   "cell_type": "markdown",
   "metadata": {},
   "source": [
    "генерируем массивы уникальных uuid для покупателей и товаров"
   ]
  },
  {
   "cell_type": "code",
   "execution_count": 2,
   "metadata": {},
   "outputs": [],
   "source": [
    "import uuid\n",
    "\n",
    "customers = []\n",
    "max_unique_customers = 100\n",
    "for _ in range(max_unique_customers):\n",
    "    customers.append(str(uuid.uuid4()))\n",
    "    \n",
    "products = []\n",
    "max_unique_products = 1000\n",
    "for _ in range(max_unique_products):\n",
    "    products.append(uuid.uuid4().hex)"
   ]
  },
  {
   "cell_type": "markdown",
   "metadata": {},
   "source": [
    "создаем Pandas DataFrame со столбцами [“customer_id”, “product_id”, “timestamp”], который содержит данные по просмотрам товаров на сайте"
   ]
  },
  {
   "cell_type": "code",
   "execution_count": 3,
   "metadata": {
    "scrolled": true
   },
   "outputs": [
    {
     "name": "stdout",
     "output_type": "stream",
     "text": [
      "Ready job id 0\n",
      "Ready job idReady job idReady job id  32 1\n",
      "\n",
      "\n",
      "Ready job id 4\n",
      "Ready job id 5\n",
      "Ready job id 6\n",
      "Ready job id 7\n",
      "Ready job id 8\n",
      "Ready job id 9\n"
     ]
    }
   ],
   "source": [
    "# однопроцессное решение\n",
    "\n",
    "# matrix = []\n",
    "# max_size = 100000000\n",
    "\n",
    "# dt = datetime.datetime(2022, 9, 1)\n",
    "# step = datetime.timedelta(seconds=5)\n",
    "\n",
    "# for _ in tqdm(range(max_size)):\n",
    "#     matrix.append([random.choice(customers), random.choice(products), dt])\n",
    "#     dt += step\n",
    "\n",
    "# многопроцессное решение\n",
    "\n",
    "def save_part(matrix, id , size):\n",
    "    columns = [\"customer_id\", \"product_id\", \"timestamp\"]\n",
    "\n",
    "    df = pd.DataFrame(data=matrix, columns=columns)\n",
    "    print(\"Save\", \"gen_logs\"+str(id)+\"-\"+str(size)+\".csv\")\n",
    "    df.to_csv(\"gen_logs\"+str(id)+\"-\"+str(size)+\".csv\", index=False, header=True)\n",
    "    \n",
    "def gen_matrix_part(id, size):\n",
    "    sec_step = 5\n",
    "    dt = datetime.datetime(2022, 9, 1) + datetime.timedelta(seconds=sec_step*(id*size))\n",
    "    step = datetime.timedelta(seconds=sec_step)\n",
    "    temp_matrix = []\n",
    "    for i in range(size):\n",
    "        temp_matrix.append([random.choice(customers), random.choice(products), dt])\n",
    "        dt += step\n",
    "    print(\"Ready job id\", id)\n",
    "    # можно сохранить 10 отдельных файлов (каждый по 10М строк) для условия 100М строк\n",
    "#     save_part(temp_matrix, id, size)\n",
    "#     return id\n",
    "#     или накапливать в оперативной памяти\n",
    "    return temp_matrix\n",
    "\n",
    "procs = 10\n",
    "size = 100000\n",
    "\n",
    "# https://superfastpython.com/multiprocessing-pool-map-multiple-arguments/\n",
    "with multiprocessing.Pool() as pool:\n",
    "    async_results = [pool.apply_async(gen_matrix_part, args=(i, size,)) for i in range(procs)]\n",
    "    # close the process pool\n",
    "    pool.close()\n",
    "    # wait for all tasks to finish\n",
    "    pool.join()\n",
    "    "
   ]
  },
  {
   "cell_type": "code",
   "execution_count": 4,
   "metadata": {},
   "outputs": [],
   "source": [
    "# для случая накопления в оперативной памяти\n",
    "matrix = [ar.get() for ar in async_results]\n",
    "# https://stackoverflow.com/a/952952\n",
    "matrix = list(chain.from_iterable(matrix))"
   ]
  },
  {
   "cell_type": "code",
   "execution_count": 5,
   "metadata": {},
   "outputs": [
    {
     "data": {
      "text/html": [
       "<div>\n",
       "<style scoped>\n",
       "    .dataframe tbody tr th:only-of-type {\n",
       "        vertical-align: middle;\n",
       "    }\n",
       "\n",
       "    .dataframe tbody tr th {\n",
       "        vertical-align: top;\n",
       "    }\n",
       "\n",
       "    .dataframe thead th {\n",
       "        text-align: right;\n",
       "    }\n",
       "</style>\n",
       "<table border=\"1\" class=\"dataframe\">\n",
       "  <thead>\n",
       "    <tr style=\"text-align: right;\">\n",
       "      <th></th>\n",
       "      <th>customer_id</th>\n",
       "      <th>product_id</th>\n",
       "      <th>timestamp</th>\n",
       "    </tr>\n",
       "  </thead>\n",
       "  <tbody>\n",
       "    <tr>\n",
       "      <th>0</th>\n",
       "      <td>16527631-541f-4927-933e-1576ae08874c</td>\n",
       "      <td>644a5f577e014b3498b742a4c85d7a37</td>\n",
       "      <td>2022-09-01 00:00:00</td>\n",
       "    </tr>\n",
       "    <tr>\n",
       "      <th>1</th>\n",
       "      <td>53a52951-ccc8-460a-9e52-cc9e45376734</td>\n",
       "      <td>8b22d3c11444473c92e4458cd5f7a4f8</td>\n",
       "      <td>2022-09-01 00:00:05</td>\n",
       "    </tr>\n",
       "    <tr>\n",
       "      <th>2</th>\n",
       "      <td>0b1b03cc-ccfd-49d4-9422-26c0f660c6ad</td>\n",
       "      <td>6fdf9cd786af47b788cc64855b7846d3</td>\n",
       "      <td>2022-09-01 00:00:10</td>\n",
       "    </tr>\n",
       "    <tr>\n",
       "      <th>3</th>\n",
       "      <td>69876966-097a-46f7-9cbb-ec8d39ee764a</td>\n",
       "      <td>2693a19b0ff34ffcae2b9c444550aa56</td>\n",
       "      <td>2022-09-01 00:00:15</td>\n",
       "    </tr>\n",
       "    <tr>\n",
       "      <th>4</th>\n",
       "      <td>ba4bb959-d525-4739-8bff-9f05abc5e5b9</td>\n",
       "      <td>d8857f706c574877958da09c511871fb</td>\n",
       "      <td>2022-09-01 00:00:20</td>\n",
       "    </tr>\n",
       "    <tr>\n",
       "      <th>...</th>\n",
       "      <td>...</td>\n",
       "      <td>...</td>\n",
       "      <td>...</td>\n",
       "    </tr>\n",
       "    <tr>\n",
       "      <th>999995</th>\n",
       "      <td>ba4bb959-d525-4739-8bff-9f05abc5e5b9</td>\n",
       "      <td>cfcd7f75505344c6bdc124d001a831eb</td>\n",
       "      <td>2022-10-28 20:52:55</td>\n",
       "    </tr>\n",
       "    <tr>\n",
       "      <th>999996</th>\n",
       "      <td>d689a148-7ea6-4dc0-a704-89b32a7b0fd7</td>\n",
       "      <td>9d4265aac9824a7fa36856053756babd</td>\n",
       "      <td>2022-10-28 20:53:00</td>\n",
       "    </tr>\n",
       "    <tr>\n",
       "      <th>999997</th>\n",
       "      <td>1bf89d68-d9d9-4d2a-b841-218cc549dd20</td>\n",
       "      <td>dda0bbb1744147a4b8b4cb19c27f799c</td>\n",
       "      <td>2022-10-28 20:53:05</td>\n",
       "    </tr>\n",
       "    <tr>\n",
       "      <th>999998</th>\n",
       "      <td>fa1f8b6f-c25d-4f82-9cd8-049bce781bf6</td>\n",
       "      <td>9cf06f112b264727872bec91140224c6</td>\n",
       "      <td>2022-10-28 20:53:10</td>\n",
       "    </tr>\n",
       "    <tr>\n",
       "      <th>999999</th>\n",
       "      <td>a8289100-3663-4122-b2bb-5bf9e0457292</td>\n",
       "      <td>4648d06e2fa245c5ae25e217633fa293</td>\n",
       "      <td>2022-10-28 20:53:15</td>\n",
       "    </tr>\n",
       "  </tbody>\n",
       "</table>\n",
       "<p>1000000 rows × 3 columns</p>\n",
       "</div>"
      ],
      "text/plain": [
       "                                 customer_id  \\\n",
       "0       16527631-541f-4927-933e-1576ae08874c   \n",
       "1       53a52951-ccc8-460a-9e52-cc9e45376734   \n",
       "2       0b1b03cc-ccfd-49d4-9422-26c0f660c6ad   \n",
       "3       69876966-097a-46f7-9cbb-ec8d39ee764a   \n",
       "4       ba4bb959-d525-4739-8bff-9f05abc5e5b9   \n",
       "...                                      ...   \n",
       "999995  ba4bb959-d525-4739-8bff-9f05abc5e5b9   \n",
       "999996  d689a148-7ea6-4dc0-a704-89b32a7b0fd7   \n",
       "999997  1bf89d68-d9d9-4d2a-b841-218cc549dd20   \n",
       "999998  fa1f8b6f-c25d-4f82-9cd8-049bce781bf6   \n",
       "999999  a8289100-3663-4122-b2bb-5bf9e0457292   \n",
       "\n",
       "                              product_id           timestamp  \n",
       "0       644a5f577e014b3498b742a4c85d7a37 2022-09-01 00:00:00  \n",
       "1       8b22d3c11444473c92e4458cd5f7a4f8 2022-09-01 00:00:05  \n",
       "2       6fdf9cd786af47b788cc64855b7846d3 2022-09-01 00:00:10  \n",
       "3       2693a19b0ff34ffcae2b9c444550aa56 2022-09-01 00:00:15  \n",
       "4       d8857f706c574877958da09c511871fb 2022-09-01 00:00:20  \n",
       "...                                  ...                 ...  \n",
       "999995  cfcd7f75505344c6bdc124d001a831eb 2022-10-28 20:52:55  \n",
       "999996  9d4265aac9824a7fa36856053756babd 2022-10-28 20:53:00  \n",
       "999997  dda0bbb1744147a4b8b4cb19c27f799c 2022-10-28 20:53:05  \n",
       "999998  9cf06f112b264727872bec91140224c6 2022-10-28 20:53:10  \n",
       "999999  4648d06e2fa245c5ae25e217633fa293 2022-10-28 20:53:15  \n",
       "\n",
       "[1000000 rows x 3 columns]"
      ]
     },
     "execution_count": 5,
     "metadata": {},
     "output_type": "execute_result"
    }
   ],
   "source": [
    "columns = [\"customer_id\", \"product_id\", \"timestamp\"]\n",
    "\n",
    "df = pd.DataFrame(data=matrix, columns=columns)\n",
    "df"
   ]
  },
  {
   "cell_type": "code",
   "execution_count": null,
   "metadata": {},
   "outputs": [],
   "source": [
    "# для случая чтения 10 файлов \n",
    "# all_files = glob.glob(os.path.join(\".\", \"*.csv\"))\n",
    "# df = pd.concat((pd.read_csv(f) for f in all_files), ignore_index=True)\n",
    "# df"
   ]
  },
  {
   "cell_type": "markdown",
   "metadata": {},
   "source": [
    "проверяем дубликаты для покупателей и продуктов"
   ]
  },
  {
   "cell_type": "code",
   "execution_count": null,
   "metadata": {},
   "outputs": [],
   "source": [
    "dups_customer_id = df.pivot_table(columns=['customer_id'], aggfunc='size')\n",
    "dups_customer_id"
   ]
  },
  {
   "cell_type": "code",
   "execution_count": null,
   "metadata": {},
   "outputs": [],
   "source": [
    "dups_product_id = df.pivot_table(columns=['product_id'], aggfunc='size')\n",
    "dups_product_id"
   ]
  },
  {
   "cell_type": "markdown",
   "metadata": {},
   "source": [
    "пишем функцию добавления сессий"
   ]
  },
  {
   "cell_type": "code",
   "execution_count": null,
   "metadata": {},
   "outputs": [],
   "source": [
    "def add_session(group):\n",
    "    group['deltaTsec'] = group[\"timestamp\"].diff().dt.seconds.fillna(0).astype(int)\n",
    "#     print(group)\n",
    "    \n",
    "    sessions = []\n",
    "    session_time = 0\n",
    "    session_limit = 180\n",
    "    i = 0\n",
    "    for delta in group['deltaTsec']:\n",
    "        session_time += delta\n",
    "        if i == 0 or session_time > session_limit:\n",
    "            session_time = 0\n",
    "            sessions.append(str(uuid.uuid4()))\n",
    "        elif session_time <= session_limit:\n",
    "            sessions.append(sessions[i - 1])\n",
    "        \n",
    "#         print(\"session_time\",session_time)\n",
    "        i += 1\n",
    "        \n",
    "    group['session_id'] = sessions\n",
    "    group = group.drop('deltaTsec', axis=1)\n",
    "#     print(group)\n",
    "    return group\n",
    "\n",
    "# df_groupby = df.groupby(\"customer_id\", as_index=False).apply(add_session)\n",
    "# df_groupby"
   ]
  },
  {
   "cell_type": "code",
   "execution_count": null,
   "metadata": {},
   "outputs": [],
   "source": [
    "# или параллельная обработка\n",
    "def applyParallel(dfGrouped, func):\n",
    "    retLst = Parallel(n_jobs=multiprocessing.cpu_count())(delayed(func)(group) for name, group in dfGrouped)\n",
    "    return pd.concat(retLst)\n",
    "\n",
    "df_groupby = applyParallel(df.groupby(\"customer_id\", as_index=False), add_session)"
   ]
  },
  {
   "cell_type": "code",
   "execution_count": null,
   "metadata": {},
   "outputs": [],
   "source": [
    "dups_session_id = df_groupby.pivot_table(columns=['session_id'], aggfunc='size')\n",
    "dups_session_id"
   ]
  },
  {
   "cell_type": "markdown",
   "metadata": {},
   "source": [
    "проверяем, перебирая сессии и проверяя, что разница между первым и последним `timestamp` для уникальной сессии составляет не более 3 минут"
   ]
  },
  {
   "cell_type": "code",
   "execution_count": null,
   "metadata": {},
   "outputs": [],
   "source": [
    "def test(session_group):\n",
    "    print(\"=====\\nДля сессии\", session_group.name, \n",
    "          \"\\nпользователя\", session_group['customer_id'].iloc[0], \n",
    "          \"\\nразница составляет\", session_group['timestamp'].iloc[-1], \"-\", session_group['timestamp'].iloc[0], \"=\", session_group['timestamp'].iloc[-1] - session_group['timestamp'].iloc[0], \n",
    "          \" - \", session_group['timestamp'].iloc[-1] - session_group['timestamp'].iloc[0] <= datetime.timedelta(seconds=180))\n",
    "    print(session_group.iloc[0])\n",
    "    print(session_group.iloc[-1])\n",
    "\n",
    "df_groupby.groupby(\"session_id\", as_index=False).apply(test)"
   ]
  },
  {
   "cell_type": "code",
   "execution_count": null,
   "metadata": {},
   "outputs": [],
   "source": [
    "df.loc[df['customer_id'] == \"6b8b38d2-8e56-4a56-a806-f87e4789d0e8\"]"
   ]
  },
  {
   "cell_type": "code",
   "execution_count": null,
   "metadata": {},
   "outputs": [],
   "source": [
    "df[:20]"
   ]
  },
  {
   "cell_type": "code",
   "execution_count": null,
   "metadata": {},
   "outputs": [],
   "source": []
  }
 ],
 "metadata": {
  "kernelspec": {
   "display_name": "Python 3 (ipykernel)",
   "language": "python",
   "name": "python3"
  },
  "language_info": {
   "codemirror_mode": {
    "name": "ipython",
    "version": 3
   },
   "file_extension": ".py",
   "mimetype": "text/x-python",
   "name": "python",
   "nbconvert_exporter": "python",
   "pygments_lexer": "ipython3",
   "version": "3.7.15"
  }
 },
 "nbformat": 4,
 "nbformat_minor": 2
}
