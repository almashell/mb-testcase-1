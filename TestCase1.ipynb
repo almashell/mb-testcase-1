{
 "cells": [
  {
   "cell_type": "markdown",
   "metadata": {},
   "source": [
    "# Задание №1\n",
    "\n",
    "Есть Pandas DataFrame со столбцами `[“customer_id”, “product_id”, “timestamp”]`, который содержит данные по просмотрам товаров на сайте. Есть проблема – просмотры одного `customer_id` не разбиты на сессии (появления на сайте). Мы хотим разместить сессии так, чтобы сессией считались все смежные просмотры, между которыми не более 3 минут.\n",
    "\n",
    "Написать методом который создаст в `Pandas DataFrame` столбец `session_id` и проставит в нем уникальный `int id` для каждой сессии.\n",
    "\n",
    "У каждого пользователя может быть по несколько сессий. Исходный `DataFrame` может быть большим – до 100 млн строк."
   ]
  },
  {
   "cell_type": "markdown",
   "metadata": {},
   "source": [
    "# Решение"
   ]
  },
  {
   "cell_type": "markdown",
   "metadata": {},
   "source": [
    "основные импорты"
   ]
  },
  {
   "cell_type": "code",
   "execution_count": 5,
   "metadata": {},
   "outputs": [],
   "source": [
    "import pandas as pd\n",
    "import numpy as np\n",
    "import datetime\n",
    "import random\n",
    "from tqdm import tqdm\n",
    "import threading\n",
    "import multiprocessing"
   ]
  },
  {
   "cell_type": "markdown",
   "metadata": {},
   "source": [
    "генерируем массивы уникальных uuid для покупателей и товаров"
   ]
  },
  {
   "cell_type": "code",
   "execution_count": 6,
   "metadata": {},
   "outputs": [],
   "source": [
    "import uuid\n",
    "\n",
    "customers = []\n",
    "max_unique_customers = 100\n",
    "for _ in range(max_unique_customers):\n",
    "    customers.append(str(uuid.uuid4()))\n",
    "    \n",
    "products = []\n",
    "max_unique_products = 1000\n",
    "for _ in range(max_unique_products):\n",
    "    products.append(uuid.uuid4().hex)"
   ]
  },
  {
   "cell_type": "markdown",
   "metadata": {},
   "source": [
    "создаем Pandas DataFrame со столбцами [“customer_id”, “product_id”, “timestamp”], который содержит данные по просмотрам товаров на сайте"
   ]
  },
  {
   "cell_type": "code",
   "execution_count": null,
   "metadata": {
    "scrolled": true
   },
   "outputs": [],
   "source": [
    "# matrix = []\n",
    "# max_size = 100000000\n",
    "\n",
    "# dt = datetime.datetime(2022, 9, 1)\n",
    "# step = datetime.timedelta(seconds=5)\n",
    "\n",
    "# for _ in tqdm(range(max_size)):\n",
    "#     matrix.append([random.choice(customers), random.choice(products), dt])\n",
    "#     dt += step\n",
    "    \n",
    "def list_append(id, count, dt, matrix):\n",
    "    \"\"\"\n",
    "    Creates an empty list and then appends a \n",
    "    random number to the list 'count' number\n",
    "    of times. A CPU-heavy operation!\n",
    "    \"\"\"\n",
    "    for i in range(count):\n",
    "        matrix.append([random.choice(customers), random.choice(products), dt])\n",
    "        dt += step\n",
    "    print(\"Ready job id\", id)\n",
    "\n",
    "size = 1000000   # Number of random numbers to add\n",
    "procs = 100   # Number of processes to create\n",
    "dt = datetime.datetime(2022, 9, 1)\n",
    "step = datetime.timedelta(seconds=5)\n",
    "matrix = []\n",
    "\n",
    "# Create a list of jobs and then iterate through\n",
    "# the number of threads appending each thread to\n",
    "# the job list \n",
    "jobs = []\n",
    "\n",
    "for i in range(0, procs):\n",
    "    matrix_temp = list()\n",
    "    thread = multiprocessing.Process(target=list_append, args=(i, size, dt, matrix,))\n",
    "    jobs.append(thread)\n",
    "    matrix += matrix_temp\n",
    "    dt = datetime.datetime(2022, 9, 1) + datetime.timedelta(seconds=5*(size+1))\n",
    "\n",
    "# Start the threads (i.e. calculate the random number lists)\n",
    "for job in jobs:\n",
    "    job.start()\n",
    "\n",
    "# Ensure all of the threads have finished\n",
    "for job in jobs:\n",
    "    job.join()\n",
    "\n"
   ]
  },
  {
   "cell_type": "code",
   "execution_count": 6,
   "metadata": {},
   "outputs": [
    {
     "data": {
      "text/html": [
       "<div>\n",
       "<style scoped>\n",
       "    .dataframe tbody tr th:only-of-type {\n",
       "        vertical-align: middle;\n",
       "    }\n",
       "\n",
       "    .dataframe tbody tr th {\n",
       "        vertical-align: top;\n",
       "    }\n",
       "\n",
       "    .dataframe thead th {\n",
       "        text-align: right;\n",
       "    }\n",
       "</style>\n",
       "<table border=\"1\" class=\"dataframe\">\n",
       "  <thead>\n",
       "    <tr style=\"text-align: right;\">\n",
       "      <th></th>\n",
       "      <th>customer_id</th>\n",
       "      <th>product_id</th>\n",
       "      <th>timestamp</th>\n",
       "    </tr>\n",
       "  </thead>\n",
       "  <tbody>\n",
       "    <tr>\n",
       "      <th>0</th>\n",
       "      <td>6bd89cb1-c4e4-4bf5-a5b0-b7f3e3f55970</td>\n",
       "      <td>31ffec0e93b14293a2141832411d9990</td>\n",
       "      <td>2022-09-01 00:00:00</td>\n",
       "    </tr>\n",
       "    <tr>\n",
       "      <th>1</th>\n",
       "      <td>4d2b9cee-4515-49cd-b28a-eef33be92ff7</td>\n",
       "      <td>33c285bf77f641aa990a7c788fdc18c0</td>\n",
       "      <td>2022-09-01 00:00:05</td>\n",
       "    </tr>\n",
       "    <tr>\n",
       "      <th>2</th>\n",
       "      <td>cb50fc8e-a590-4448-968e-72d3e51300c3</td>\n",
       "      <td>caf7eb47c39f408a8e2fccbd9c007b9b</td>\n",
       "      <td>2022-09-01 00:00:10</td>\n",
       "    </tr>\n",
       "    <tr>\n",
       "      <th>3</th>\n",
       "      <td>4d2b9cee-4515-49cd-b28a-eef33be92ff7</td>\n",
       "      <td>4fcc26f231694568ad87ff8940070c94</td>\n",
       "      <td>2022-09-01 00:00:15</td>\n",
       "    </tr>\n",
       "    <tr>\n",
       "      <th>4</th>\n",
       "      <td>f37fe503-429d-41ee-ac4f-779f0348bf62</td>\n",
       "      <td>a62d22c6a1264409a5f8c1a457adbe52</td>\n",
       "      <td>2022-09-01 00:00:20</td>\n",
       "    </tr>\n",
       "    <tr>\n",
       "      <th>...</th>\n",
       "      <td>...</td>\n",
       "      <td>...</td>\n",
       "      <td>...</td>\n",
       "    </tr>\n",
       "    <tr>\n",
       "      <th>9999995</th>\n",
       "      <td>f2465618-3a39-4c0a-b5f9-b85ef097c9f6</td>\n",
       "      <td>1e19d0f4169245a49f3257aa92414175</td>\n",
       "      <td>2022-09-12 13:46:20</td>\n",
       "    </tr>\n",
       "    <tr>\n",
       "      <th>9999996</th>\n",
       "      <td>5aca5a16-07df-4841-a46f-7ba41b94b899</td>\n",
       "      <td>869abc6e26dc43dd93351abd750efe6f</td>\n",
       "      <td>2022-09-12 13:46:25</td>\n",
       "    </tr>\n",
       "    <tr>\n",
       "      <th>9999997</th>\n",
       "      <td>b69e89d0-e865-46ce-aa7f-fe9c3078fe02</td>\n",
       "      <td>b0faa97003fb477bb76616dac3da198e</td>\n",
       "      <td>2022-09-12 13:46:30</td>\n",
       "    </tr>\n",
       "    <tr>\n",
       "      <th>9999998</th>\n",
       "      <td>1cddb993-ad5d-456e-b322-58a0520e7807</td>\n",
       "      <td>065b058e3b734a56ba5e17b2244bb47a</td>\n",
       "      <td>2022-09-12 13:46:35</td>\n",
       "    </tr>\n",
       "    <tr>\n",
       "      <th>9999999</th>\n",
       "      <td>aceb5e9e-3ec4-4d6a-9b07-a7cbbfb3d92e</td>\n",
       "      <td>890059e8a1e64497b61ad06d02dbf8e9</td>\n",
       "      <td>2022-09-12 13:46:40</td>\n",
       "    </tr>\n",
       "  </tbody>\n",
       "</table>\n",
       "<p>10000000 rows × 3 columns</p>\n",
       "</div>"
      ],
      "text/plain": [
       "                                  customer_id  \\\n",
       "0        6bd89cb1-c4e4-4bf5-a5b0-b7f3e3f55970   \n",
       "1        4d2b9cee-4515-49cd-b28a-eef33be92ff7   \n",
       "2        cb50fc8e-a590-4448-968e-72d3e51300c3   \n",
       "3        4d2b9cee-4515-49cd-b28a-eef33be92ff7   \n",
       "4        f37fe503-429d-41ee-ac4f-779f0348bf62   \n",
       "...                                       ...   \n",
       "9999995  f2465618-3a39-4c0a-b5f9-b85ef097c9f6   \n",
       "9999996  5aca5a16-07df-4841-a46f-7ba41b94b899   \n",
       "9999997  b69e89d0-e865-46ce-aa7f-fe9c3078fe02   \n",
       "9999998  1cddb993-ad5d-456e-b322-58a0520e7807   \n",
       "9999999  aceb5e9e-3ec4-4d6a-9b07-a7cbbfb3d92e   \n",
       "\n",
       "                               product_id           timestamp  \n",
       "0        31ffec0e93b14293a2141832411d9990 2022-09-01 00:00:00  \n",
       "1        33c285bf77f641aa990a7c788fdc18c0 2022-09-01 00:00:05  \n",
       "2        caf7eb47c39f408a8e2fccbd9c007b9b 2022-09-01 00:00:10  \n",
       "3        4fcc26f231694568ad87ff8940070c94 2022-09-01 00:00:15  \n",
       "4        a62d22c6a1264409a5f8c1a457adbe52 2022-09-01 00:00:20  \n",
       "...                                   ...                 ...  \n",
       "9999995  1e19d0f4169245a49f3257aa92414175 2022-09-12 13:46:20  \n",
       "9999996  869abc6e26dc43dd93351abd750efe6f 2022-09-12 13:46:25  \n",
       "9999997  b0faa97003fb477bb76616dac3da198e 2022-09-12 13:46:30  \n",
       "9999998  065b058e3b734a56ba5e17b2244bb47a 2022-09-12 13:46:35  \n",
       "9999999  890059e8a1e64497b61ad06d02dbf8e9 2022-09-12 13:46:40  \n",
       "\n",
       "[10000000 rows x 3 columns]"
      ]
     },
     "execution_count": 6,
     "metadata": {},
     "output_type": "execute_result"
    }
   ],
   "source": [
    "columns = [\"customer_id\", \"product_id\", \"timestamp\"]\n",
    "\n",
    "df = pd.DataFrame(data=matrix, columns=columns)\n",
    "df"
   ]
  },
  {
   "cell_type": "markdown",
   "metadata": {},
   "source": [
    "проверяем дубликаты для покупателей и продуктов"
   ]
  },
  {
   "cell_type": "code",
   "execution_count": null,
   "metadata": {},
   "outputs": [],
   "source": [
    "dups_customer_id = df.pivot_table(columns=['customer_id'], aggfunc='size')\n",
    "dups_customer_id"
   ]
  },
  {
   "cell_type": "code",
   "execution_count": null,
   "metadata": {},
   "outputs": [],
   "source": [
    "dups_product_id = df.pivot_table(columns=['product_id'], aggfunc='size')\n",
    "dups_product_id"
   ]
  },
  {
   "cell_type": "markdown",
   "metadata": {},
   "source": [
    "пишем функцию добавления сессий"
   ]
  },
  {
   "cell_type": "code",
   "execution_count": null,
   "metadata": {},
   "outputs": [],
   "source": [
    "def add_session(group):\n",
    "    group['deltaTsec'] = group[\"timestamp\"].diff().dt.seconds.fillna(0).astype(int)\n",
    "#     print(group)\n",
    "    \n",
    "    sessions = []\n",
    "    session_time = 0\n",
    "    session_limit = 180\n",
    "    i = 0\n",
    "    for delta in group['deltaTsec']:\n",
    "        session_time += delta\n",
    "        if i == 0 or session_time > session_limit:\n",
    "            session_time = 0\n",
    "            sessions.append(str(uuid.uuid4()))\n",
    "        elif session_time <= session_limit:\n",
    "            sessions.append(sessions[i - 1])\n",
    "        \n",
    "#         print(\"session_time\",session_time)\n",
    "        i += 1\n",
    "        \n",
    "    group['session_id'] = sessions\n",
    "    group = group.drop('deltaTsec', axis=1)\n",
    "#     print(group)\n",
    "    return group\n",
    "\n",
    "df_groupby = df.groupby(\"customer_id\", as_index=False).apply(add_session)\n",
    "df_groupby"
   ]
  },
  {
   "cell_type": "code",
   "execution_count": null,
   "metadata": {},
   "outputs": [],
   "source": [
    "dups_session_id = df_groupby.pivot_table(columns=['session_id'], aggfunc='size')\n",
    "dups_session_id"
   ]
  },
  {
   "cell_type": "markdown",
   "metadata": {},
   "source": [
    "проверяем, перебирая сессии и проверяя, что разница между первым и последним `timestamp` для уникальной сессии составляет не более 3 минут"
   ]
  },
  {
   "cell_type": "code",
   "execution_count": null,
   "metadata": {},
   "outputs": [],
   "source": [
    "def test(session_group):\n",
    "    print(\"=====\\nДля сессии\", session_group.name, \n",
    "          \"\\nпользователя\", session_group['customer_id'].iloc[0], \n",
    "          \"\\nразница составляет\", session_group['timestamp'].iloc[-1] - session_group['timestamp'].iloc[0], \n",
    "          \" - \", session_group['timestamp'].iloc[-1] - session_group['timestamp'].iloc[0] <= datetime.timedelta(seconds=180))\n",
    "\n",
    "df_groupby.groupby(\"session_id\", as_index=False).apply(test)"
   ]
  },
  {
   "cell_type": "code",
   "execution_count": null,
   "metadata": {},
   "outputs": [],
   "source": []
  },
  {
   "cell_type": "code",
   "execution_count": null,
   "metadata": {},
   "outputs": [],
   "source": []
  }
 ],
 "metadata": {
  "kernelspec": {
   "display_name": "Python 3 (ipykernel)",
   "language": "python",
   "name": "python3"
  },
  "language_info": {
   "codemirror_mode": {
    "name": "ipython",
    "version": 3
   },
   "file_extension": ".py",
   "mimetype": "text/x-python",
   "name": "python",
   "nbconvert_exporter": "python",
   "pygments_lexer": "ipython3",
   "version": "3.7.15"
  }
 },
 "nbformat": 4,
 "nbformat_minor": 2
}
